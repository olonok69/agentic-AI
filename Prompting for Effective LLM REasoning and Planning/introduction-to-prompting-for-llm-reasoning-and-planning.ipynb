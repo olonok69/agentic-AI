{
 "cells": [
  {
   "cell_type": "markdown",
   "metadata": {},
   "source": [
    "# Pre-Lesson Exercise: Organize Your Workspace Space Kick-Off\n",
    "\n",
    "Before we get started on our course, let's take some time to set up and tidy our workspace. As an agentic twist on the matter, we will guide a Large Language Model (LLM) through a series of prompt refinements to create a practical plan to organize your personal work area.\n",
    "\n",
    "## Outline\n",
    "\n",
    "1. Start with a generic prompt\n",
    "2. Add a professional role\n",
    "3. Introduce concrete constraints\n",
    "4. Bonus: Apply what you've learned"
   ]
  },
  {
   "cell_type": "code",
   "execution_count": 6,
   "metadata": {},
   "outputs": [],
   "source": [
    "# Import necessary libraries\n",
    "# No changes needed in this cella\n",
    "from openai import OpenAI\n",
    "from IPython.display import Markdown, display\n",
    "import os\n",
    "from dotenv import load_dotenv"
   ]
  },
  {
   "cell_type": "code",
   "execution_count": 7,
   "metadata": {},
   "outputs": [],
   "source": [
    "# If using the Vocareum API endpoint\n",
    "# TODO: Fill in the missing parts marked with **********\n",
    "\n",
    "# client = OpenAI(\n",
    "#     base_url=\"https://openai.vocareum.com/v1\",\n",
    "#     # Uncomment one of the following\n",
    "#     # api_key=\"**********\",  # <--- TODO: Fill in your Vocareum API key here\n",
    "#     # api_key=os.getenv(\n",
    "#     #     \"OPENAI_API_KEY\"\n",
    "#     # ),  # <-- Alternately, set as an environment variable\n",
    "# )\n",
    "\n",
    "load_dotenv()\n",
    "# If using OpenAI's API endpoint\n",
    "client = OpenAI()\n"
   ]
  },
  {
   "cell_type": "code",
   "execution_count": 3,
   "metadata": {},
   "outputs": [],
   "source": [
    "# No changes needed in this cell\n",
    "from enum import Enum\n",
    "\n",
    "\n",
    "class OpenAIModels(str, Enum):\n",
    "    GPT_4O_MINI = \"gpt-4o-mini\"\n",
    "    GPT_41_MINI = \"gpt-4.1-mini\"\n",
    "    GPT_41_NANO = \"gpt-4.1-nano\"\n",
    "\n",
    "\n",
    "MODEL = OpenAIModels.GPT_41_NANO\n",
    "\n",
    "\n",
    "def get_completion(system_prompt, user_prompt, model=MODEL):\n",
    "    \"\"\"\n",
    "    Function to get a completion from the OpenAI API.\n",
    "    Args:\n",
    "        system_prompt: The system prompt\n",
    "        user_prompt: The user prompt\n",
    "        model: The model to use (default is gpt-4.1-mini)\n",
    "    Returns:\n",
    "        The completion text\n",
    "    \"\"\"\n",
    "    messages = [\n",
    "        {\"role\": \"user\", \"content\": user_prompt},\n",
    "    ]\n",
    "    if system_prompt is not None:\n",
    "        messages = [\n",
    "            {\"role\": \"system\", \"content\": system_prompt},\n",
    "            *messages,\n",
    "        ]\n",
    "    try:\n",
    "        response = client.chat.completions.create(\n",
    "            model=model,\n",
    "            messages=messages,\n",
    "            temperature=0.7,\n",
    "        )\n",
    "        return response.choices[0].message.content\n",
    "    except Exception as e:\n",
    "        return f\"An error occurred: {e}\"\n",
    "\n",
    "\n",
    "def display_responses(*args):\n",
    "    \"\"\"Helper function to display responses as Markdown, horizontally.\"\"\"\n",
    "    markdown_string = \"<table><tr>\"\n",
    "    # Headers\n",
    "    for arg in args:\n",
    "        markdown_string += f\"<th>System Prompt:<br />{arg['system_prompt']}<br /><br />\"\n",
    "        markdown_string += f\"User Prompt:<br />{arg['user_prompt']}</th>\"\n",
    "    markdown_string += \"</tr>\"\n",
    "    # Rows\n",
    "    markdown_string += \"<tr>\"\n",
    "    for arg in args:\n",
    "        markdown_string += f\"<td>Response:<br />{arg['response']}</td>\"\n",
    "    markdown_string += \"</tr></table>\"\n",
    "    display(Markdown(markdown_string))"
   ]
  },
  {
   "cell_type": "markdown",
   "metadata": {},
   "source": [
    "## 1. Generic Prompt\n",
    "\n",
    "First, let's see what the model produces with a basic prompt."
   ]
  },
  {
   "cell_type": "code",
   "execution_count": 8,
   "metadata": {},
   "outputs": [
    {
     "name": "stdout",
     "output_type": "stream",
     "text": [
      "Sending prompt to OpenAIModels.GPT_41_NANO model...\n",
      "Response received!\n",
      "\n"
     ]
    },
    {
     "data": {
      "text/markdown": [
       "<table><tr><th>System Prompt:<br />You are a helpful assistant.<br /><br />User Prompt:<br />Give me a simple plan to declutter and organize my workspace.</th></tr><tr><td>Response:<br />Certainly! Here's a simple step-by-step plan to declutter and organize your workspace:\n",
       "\n",
       "1. Set Aside Time:\n",
       "   - Dedicate a specific time (e.g., 1-2 hours) to focus solely on decluttering.\n",
       "2. Clear Your Desk:\n",
       "   - Remove everything from your workspace.\n",
       "   - Wipe down surfaces to create a clean slate.\n",
       "3. Sort Items into Categories:\n",
       "   - Keep: Items you use daily or frequently.\n",
       "   - Store: Items used occasionally.\n",
       "   - Donate or Dispose: Items you no longer need or are broken.\n",
       "4. Organize Keep Items:\n",
       "   - Use trays, organizers, or drawers for supplies.\n",
       "   - Designate specific spots for essentials like pens, notebooks, and devices.\n",
       "5. Create a Filing System:\n",
       "   - Use folders or labels for papers and documents.\n",
       "   - Regularly review and discard unnecessary papers.\n",
       "6. Manage Cables and Electronics:\n",
       "   - Use cable organizers or clips to keep cords tidy.\n",
       "   - Store rarely used electronics out of sight.\n",
       "7. Maintain a Clean Routine:\n",
       "   - Spend 5 minutes at the end of each day tidying up.\n",
       "   - Regularly revisit your organization system to keep it functional.\n",
       "8. Personalize Thoughtfully:\n",
       "   - Add a few personal touches to make your workspace inviting but avoid clutter.\n",
       "\n",
       "Would you like a printable checklist or tips on specific organizing tools?</td></tr></table>"
      ],
      "text/plain": [
       "<IPython.core.display.Markdown object>"
      ]
     },
     "metadata": {},
     "output_type": "display_data"
    }
   ],
   "source": [
    "# No changes needed in this cell\n",
    "plain_system_prompt = \"You are a helpful assistant.\"  # A generic system prompt\n",
    "user_prompt = \"Give me a simple plan to declutter and organize my workspace.\"\n",
    "\n",
    "print(f\"Sending prompt to {MODEL} model...\")\n",
    "baseline_response = get_completion(plain_system_prompt, user_prompt)\n",
    "print(\"Response received!\\n\")\n",
    "\n",
    "display_responses(\n",
    "    {\n",
    "        \"system_prompt\": plain_system_prompt,\n",
    "        \"user_prompt\": user_prompt,\n",
    "        \"response\": baseline_response,\n",
    "    }\n",
    ")"
   ]
  },
  {
   "cell_type": "markdown",
   "metadata": {},
   "source": [
    "## 2. Add a Professional Role\n",
    "\n",
    "Now, let's add a professional role to see how it affects the response.\n",
    "\n",
    "<div style=\"color: red\">NOTE: We will use the same user prompt for these examples. All you need to do is vary the system prompt, which is where one would normally define the role for an LLM.</div>"
   ]
  },
  {
   "cell_type": "code",
   "execution_count": 9,
   "metadata": {},
   "outputs": [
    {
     "name": "stdout",
     "output_type": "stream",
     "text": [
      "Sending prompt with professional role...\n",
      "Response received!\n",
      "\n"
     ]
    },
    {
     "data": {
      "text/markdown": [
       "<table><tr><th>System Prompt:<br />You are a helpful assistant.<br /><br />User Prompt:<br />Give me a simple plan to declutter and organize my workspace.</th><th>System Prompt:<br />You are an expert professional organizer and productivity coach.<br /><br />User Prompt:<br />Give me a simple plan to declutter and organize my workspace.</th></tr><tr><td>Response:<br />Certainly! Here's a simple step-by-step plan to declutter and organize your workspace:\n",
       "\n",
       "1. Set Aside Time:\n",
       "   - Dedicate a specific time (e.g., 1-2 hours) to focus solely on decluttering.\n",
       "2. Clear Your Desk:\n",
       "   - Remove everything from your workspace.\n",
       "   - Wipe down surfaces to create a clean slate.\n",
       "3. Sort Items into Categories:\n",
       "   - Keep: Items you use daily or frequently.\n",
       "   - Store: Items used occasionally.\n",
       "   - Donate or Dispose: Items you no longer need or are broken.\n",
       "4. Organize Keep Items:\n",
       "   - Use trays, organizers, or drawers for supplies.\n",
       "   - Designate specific spots for essentials like pens, notebooks, and devices.\n",
       "5. Create a Filing System:\n",
       "   - Use folders or labels for papers and documents.\n",
       "   - Regularly review and discard unnecessary papers.\n",
       "6. Manage Cables and Electronics:\n",
       "   - Use cable organizers or clips to keep cords tidy.\n",
       "   - Store rarely used electronics out of sight.\n",
       "7. Maintain a Clean Routine:\n",
       "   - Spend 5 minutes at the end of each day tidying up.\n",
       "   - Regularly revisit your organization system to keep it functional.\n",
       "8. Personalize Thoughtfully:\n",
       "   - Add a few personal touches to make your workspace inviting but avoid clutter.\n",
       "\n",
       "Would you like a printable checklist or tips on specific organizing tools?</td><td>Response:<br />Certainly! Here's a simple, step-by-step plan to declutter and organize your workspace efficiently:\n",
       "\n",
       "**Step 1: Prepare and Set Goals**\n",
       "- Clear a specific time block (e.g., 2 hours).\n",
       "- Define your main goal (e.g., create a clutter-free, functional workspace).\n",
       "\n",
       "**Step 2: Clear Everything Out**\n",
       "- Remove all items from your desk, shelves, and drawers.\n",
       "- Sort items into categories: Keep, Donate/Sell, Recycle, Trash.\n",
       "\n",
       "**Step 3: Clean the Space**\n",
       "- Wipe down surfaces, clean windows, and vacuum or sweep the floor.\n",
       "\n",
       "**Step 4: Organize Keep Items**\n",
       "- Group similar items together (stationery, files, tech, personal items).\n",
       "- Decide on storage solutions: trays, bins, drawer organizers, shelves.\n",
       "\n",
       "**Step 5: Create Designated Areas**\n",
       "- Establish specific zones: work area, supply zone, reference area, personal space.\n",
       "- Keep frequently-used items within easy reach.\n",
       "\n",
       "**Step 6: Implement Storage Solutions**\n",
       "- Use labeled containers and folders for files.\n",
       "- Store less-used items in cabinets or higher shelves.\n",
       "- Keep clutter off the desktop by using drawers and organizers.\n",
       "\n",
       "**Step 7: Maintain Regularly**\n",
       "- Spend 5-10 minutes daily tidying up.\n",
       "- Weekly, do a quick review to keep clutter at bay.\n",
       "\n",
       "Would you like tips on specific storage ideas or maintaining your organized workspace?</td></tr></table>"
      ],
      "text/plain": [
       "<IPython.core.display.Markdown object>"
      ]
     },
     "metadata": {},
     "output_type": "display_data"
    }
   ],
   "source": [
    "# TODO: Write a system prompt starting with \"You are...\" replacing the ***********\n",
    "role_system_prompt = \"You are an expert professional organizer and productivity coach.\"\n",
    "\n",
    "print(\"Sending prompt with professional role...\")\n",
    "role_response = get_completion(role_system_prompt, user_prompt)\n",
    "print(\"Response received!\\n\")\n",
    "\n",
    "# Show last two prompts and responses\n",
    "display_responses(\n",
    "    {\n",
    "        \"system_prompt\": plain_system_prompt,\n",
    "        \"user_prompt\": user_prompt,\n",
    "        \"response\": baseline_response,\n",
    "    },\n",
    "    {\n",
    "        \"system_prompt\": role_system_prompt,\n",
    "        \"user_prompt\": user_prompt,\n",
    "        \"response\": role_response,\n",
    "    },\n",
    ")"
   ]
  },
  {
   "cell_type": "markdown",
   "metadata": {},
   "source": [
    "## 3. Add Constraints\n",
    "\n",
    "Let's add specific constraints to see how the model prioritizes tasks. Let's add a time constraint, a budget constraint, and other constraints that are important for you."
   ]
  },
  {
   "cell_type": "code",
   "execution_count": 10,
   "metadata": {},
   "outputs": [
    {
     "name": "stdout",
     "output_type": "stream",
     "text": [
      "Sending prompt with constraints...\n",
      "Response received!\n",
      "\n"
     ]
    },
    {
     "data": {
      "text/markdown": [
       "<table><tr><th>System Prompt:<br />You are an expert professional organizer and productivity coach.<br /><br />User Prompt:<br />Give me a simple plan to declutter and organize my workspace.</th><th>System Prompt:<br />You are an expert professional organizer and productivity coach.. The plan must be achievable in one hour and require no purchases, using only existing household items. If a Desk Policy is provided, check and apply it to your answer<br /><br />User Prompt:<br />Give me a simple plan to declutter and organize my workspace.</th></tr><tr><td>Response:<br />Certainly! Here's a simple, step-by-step plan to declutter and organize your workspace efficiently:\n",
       "\n",
       "**Step 1: Prepare and Set Goals**\n",
       "- Clear a specific time block (e.g., 2 hours).\n",
       "- Define your main goal (e.g., create a clutter-free, functional workspace).\n",
       "\n",
       "**Step 2: Clear Everything Out**\n",
       "- Remove all items from your desk, shelves, and drawers.\n",
       "- Sort items into categories: Keep, Donate/Sell, Recycle, Trash.\n",
       "\n",
       "**Step 3: Clean the Space**\n",
       "- Wipe down surfaces, clean windows, and vacuum or sweep the floor.\n",
       "\n",
       "**Step 4: Organize Keep Items**\n",
       "- Group similar items together (stationery, files, tech, personal items).\n",
       "- Decide on storage solutions: trays, bins, drawer organizers, shelves.\n",
       "\n",
       "**Step 5: Create Designated Areas**\n",
       "- Establish specific zones: work area, supply zone, reference area, personal space.\n",
       "- Keep frequently-used items within easy reach.\n",
       "\n",
       "**Step 6: Implement Storage Solutions**\n",
       "- Use labeled containers and folders for files.\n",
       "- Store less-used items in cabinets or higher shelves.\n",
       "- Keep clutter off the desktop by using drawers and organizers.\n",
       "\n",
       "**Step 7: Maintain Regularly**\n",
       "- Spend 5-10 minutes daily tidying up.\n",
       "- Weekly, do a quick review to keep clutter at bay.\n",
       "\n",
       "Would you like tips on specific storage ideas or maintaining your organized workspace?</td><td>Response:<br />Certainly! Here’s a simple, achievable one-hour plan to declutter and organize your workspace using only household items:\n",
       "\n",
       "**1. Set a Timer and Gather Supplies (5 minutes)**\n",
       "- Use your phone or a clock to start a timer.\n",
       "- Gather a trash bag or bin, a few containers or bowls (like small bowls, cups, or boxes), and a cloth or paper towels.\n",
       "\n",
       "**2. Clear the Surface (10 minutes)**\n",
       "- Remove everything from your desk.\n",
       "- Quickly wipe down the surface with a cloth or paper towel to remove dust and fingerprints.\n",
       "\n",
       "**3. Sort Items into Categories (15 minutes)**\n",
       "Create piles or sections for:\n",
       "- Keep: Items you regularly use or need\n",
       "- Relocate: Items that belong elsewhere in your home\n",
       "- Trash: Broken, outdated, or unnecessary items\n",
       "- Donate/Recycle: Items in good condition but no longer needed\n",
       "\n",
       "**4. Organize and Store \"Keep\" Items (20 minutes)**\n",
       "- Use your existing containers or bowls to group similar items (pens, paper clips, sticky notes, etc.).\n",
       "- Find a designated spot for each category, such as:\n",
       "   - Pens and small office supplies in a jar or cup\n",
       "   - Important papers in a neat stack or folder\n",
       "- Place larger items back on your desk in an organized manner, leaving space for work.\n",
       "\n",
       "**5. Final Touches and Maintenance (10 minutes)**\n",
       "- Tidy up any remaining clutter around your workspace.\n",
       "- Create a simple daily routine: spend 2 minutes at the end of each day to put things back and keep the area neat.\n",
       "\n",
       "**Optional:** Establish a \"Desk Policy\" such as:  \n",
       "*\"Only keep essentials on the desk; store everything else away after use.\"*  \n",
       "Apply this to maintain your organized workspace going forward.\n",
       "\n",
       "---\n",
       "\n",
       "This plan is straightforward, quick, and uses items you already have, making your workspace cleaner, more functional, and ready for productivity!</td></tr></table>"
      ],
      "text/plain": [
       "<IPython.core.display.Markdown object>"
      ]
     },
     "metadata": {},
     "output_type": "display_data"
    }
   ],
   "source": [
    "# TODO: Write a constraints system prompt replacing the ***********\n",
    "constraints_system_prompt = f\"{role_system_prompt}. The plan must be achievable in one hour and require no purchases, using only existing household items. If a Desk Policy is provided, check and apply it to your answer\"\n",
    "\n",
    "print(\"Sending prompt with constraints...\")\n",
    "constraints_response = get_completion(constraints_system_prompt, user_prompt)\n",
    "print(\"Response received!\\n\")\n",
    "\n",
    "# Show last two prompts and responses\n",
    "display_responses(\n",
    "    {\n",
    "        \"system_prompt\": role_system_prompt,\n",
    "        \"user_prompt\": user_prompt,\n",
    "        \"response\": role_response,\n",
    "    },\n",
    "    {\n",
    "        \"system_prompt\": constraints_system_prompt,\n",
    "        \"user_prompt\": user_prompt,\n",
    "        \"response\": constraints_response,\n",
    "    },\n",
    ")"
   ]
  },
  {
   "cell_type": "markdown",
   "metadata": {},
   "source": [
    "## Bonus: Apply what you've learned\n",
    "\n",
    "Try crafting a prompt for one of your own ideas or even a different organization task (e.g., digital file cleanup, closet overhaul)!"
   ]
  },
  {
   "cell_type": "code",
   "execution_count": 11,
   "metadata": {},
   "outputs": [
    {
     "name": "stdout",
     "output_type": "stream",
     "text": [
      "Sending custom prompt...\n",
      "Response received!\n",
      "\n"
     ]
    },
    {
     "data": {
      "text/markdown": [
       "<table><tr><th>System Prompt:<br />\n",
       "You are a Profesional Finalcial advisor. Explain your reasoning for each step of the plan in a thoughtful way before presenting the final checklist.\n",
       "<br /><br />User Prompt:<br />\n",
       "What steps I need To complete if I want to earn money with investements\n",
       "</th></tr><tr><td>Response:<br />Certainly! Investing to earn money is a disciplined process that involves several important steps. Let me walk you through each step thoughtfully, explaining the rationale behind it, to help you build a solid investment plan.\n",
       "\n",
       "**Step 1: Define Your Financial Goals**\n",
       "- **Why:** Knowing what you want to achieve helps determine your investment strategy. Are you saving for retirement, a down payment, education, or wealth accumulation? The time horizon and risk tolerance depend on these goals.\n",
       "- **Considerations:** Short-term goals (1-3 years) typically require low-risk investments, while long-term goals (5+ years) can accommodate higher-risk assets.\n",
       "\n",
       "**Step 2: Assess Your Financial Situation**\n",
       "- **Why:** Understanding your current financial position, including income, expenses, debts, and savings, ensures you can invest responsibly.\n",
       "- **Considerations:** Establish an emergency fund (3-6 months of living expenses) before investing, to avoid needing to liquidate investments prematurely.\n",
       "\n",
       "**Step 3: Educate Yourself About Investment Options**\n",
       "- **Why:** Different investment vehicles (stocks, bonds, mutual funds, ETFs, real estate, etc.) have varying risk profiles, returns, and liquidity. Knowledge allows you to diversify effectively.\n",
       "- **Considerations:** Use reputable sources and consider consulting with a financial advisor for tailored insights.\n",
       "\n",
       "**Step 4: Determine Your Risk Tolerance**\n",
       "- **Why:** Your comfort with market fluctuations impacts your asset allocation. A higher risk tolerance may lead to higher potential returns but also larger losses.\n",
       "- **Considerations:** Be honest with yourself; risk tolerance can differ based on age, income stability, and investment goals.\n",
       "\n",
       "**Step 5: Develop an Investment Strategy and Asset Allocation**\n",
       "- **Why:** A diversified portfolio reduces risk and aligns with your goals and risk tolerance.\n",
       "- **Considerations:** For example, a younger investor might favor stocks for growth, while an older investor might prefer bonds for stability.\n",
       "\n",
       "**Step 6: Choose Investment Accounts and Platforms**\n",
       "- **Why:** The right accounts (retirement accounts, brokerage accounts) and platforms (online brokers, financial advisors) facilitate investing and may offer tax advantages.\n",
       "- **Considerations:** Compare fees, investment options, and ease of use.\n",
       "\n",
       "**Step 7: Start Investing Systematically**\n",
       "- **Why:** Regular contributions through dollar-cost averaging reduce the impact of market volatility and build discipline.\n",
       "- **Considerations:** Set up automatic transfers to your investment accounts.\n",
       "\n",
       "**Step 8: Monitor and Rebalance Your Portfolio**\n",
       "- **Why:** Over time, some investments may grow faster than others, shifting your asset allocation away from your target. Rebalancing maintains your desired risk level.\n",
       "- **Considerations:** Review your portfolio at least annually or when your financial situation changes.\n",
       "\n",
       "**Step 9: Stay Informed and Keep a Long-Term Perspective**\n",
       "- **Why:** Markets fluctuate, but a long-term approach typically yields better results. Avoid reacting emotionally to short-term volatility.\n",
       "- **Considerations:** Continue learning about investing and adjust your plan only when necessary.\n",
       "\n",
       "---\n",
       "\n",
       "### Final Checklist for Earning Money Through Investments:\n",
       "\n",
       "1. **Define your financial goals and investment horizon.**\n",
       "2. **Assess your current financial situation and establish an emergency fund.**\n",
       "3. **Educate yourself about various investment options and strategies.**\n",
       "4. **Determine your risk tolerance honestly.**\n",
       "5. **Develop a diversified asset allocation aligned with your goals and risk profile.**\n",
       "6. **Choose appropriate investment accounts and reliable platforms.**\n",
       "7. **Start investing systematically with regular contributions.**\n",
       "8. **Monitor your portfolio periodically and rebalance as needed.**\n",
       "9. **Maintain a long-term perspective and stay informed about market trends.**\n",
       "\n",
       "By following these steps thoughtfully, you'll be well-positioned to build wealth responsibly through investments. Remember, patience and discipline are key to successful investing.</td></tr></table>"
      ],
      "text/plain": [
       "<IPython.core.display.Markdown object>"
      ]
     },
     "metadata": {},
     "output_type": "display_data"
    }
   ],
   "source": [
    "\n",
    "\n",
    "\n",
    "custom_system_prompt = \"\"\"\n",
    "You are a Profesional Finalcial advisor. Explain your reasoning for each step of the plan in a thoughtful way before presenting the final checklist.\n",
    "\"\"\"\n",
    "user_prompt = \"\"\"\n",
    "What steps I need To complete if I want to earn money with investements\n",
    "\"\"\"\n",
    "\n",
    "# Uncomment the lines below to run your custom prompt\n",
    "print(\"Sending custom prompt...\")\n",
    "custom_response = get_completion(custom_system_prompt, user_prompt)\n",
    "print(\"Response received!\\n\")\n",
    "\n",
    "display_responses(\n",
    "    {\n",
    "        \"system_prompt\": custom_system_prompt,\n",
    "        \"user_prompt\": user_prompt,\n",
    "        \"response\": custom_response,\n",
    "    }\n",
    ")"
   ]
  },
  {
   "cell_type": "markdown",
   "metadata": {},
   "source": [
    "## Summary\n",
    "\n",
    "In this exercise, we explored how different prompt refinements affect the output of an LLM:\n",
    "\n",
    "1. **Generic Prompt**: We started with a simple request for a workspace organization plan.\n",
    "2. **Professional Role**: We added a specific role to enhance expertise and authority.\n",
    "3. **Concrete Constraints**: We introduced specific limitations that required prioritization.\n",
    "4. **Step-by-Step Reasoning**: We requested explicit reasoning to understand the model's thought process.\n",
    "\n",
    "These techniques demonstrate how prompt engineering can significantly improve the usefulness and relevance of AI-generated content for specific needs.\n",
    "\n",
    "Excellent Work! 🚀"
   ]
  }
 ],
 "metadata": {
  "kernelspec": {
   "display_name": "venv",
   "language": "python",
   "name": "python3"
  },
  "language_info": {
   "codemirror_mode": {
    "name": "ipython",
    "version": 3
   },
   "file_extension": ".py",
   "mimetype": "text/x-python",
   "name": "python",
   "nbconvert_exporter": "python",
   "pygments_lexer": "ipython3",
   "version": "3.13.0"
  },
  "vscode": {
   "interpreter": {
    "hash": "23393d2575091a37cff0d0e9e7479591a295495b26c3b2ebf9b64da572e02d85"
   }
  }
 },
 "nbformat": 4,
 "nbformat_minor": 4
}
